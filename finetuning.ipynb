{
  "cells": [
    {
      "cell_type": "markdown",
      "metadata": {
        "id": "Tce3stUlHN0L"
      },
      "source": [
        "##### Copyright 2023 Google LLC"
      ]
    },
    {
      "cell_type": "code",
      "execution_count": null,
      "metadata": {
        "cellView": "form",
        "id": "tuOe1ymfHZPu"
      },
      "outputs": [],
      "source": [
        "# @title Licensed under the Apache License, Version 2.0 (the \"License\");\n",
        "# you may not use this file except in compliance with the License.\n",
        "# You may obtain a copy of the License at\n",
        "#\n",
        "# https://www.apache.org/licenses/LICENSE-2.0\n",
        "#\n",
        "# Unless required by applicable law or agreed to in writing, software\n",
        "# distributed under the License is distributed on an \"AS IS\" BASIS,\n",
        "# WITHOUT WARRANTIES OR CONDITIONS OF ANY KIND, either express or implied.\n",
        "# See the License for the specific language governing permissions and\n",
        "# limitations under the License."
      ]
    },
    {
      "cell_type": "markdown",
      "metadata": {
        "id": "FKwyTRdwB8aW"
      },
      "source": [
        "## Setup"
      ]
    },
    {
      "cell_type": "markdown",
      "metadata": {
        "id": "rlE8UqxrDIez"
      },
      "source": [
        "### Install & import"
      ]
    },
    {
      "cell_type": "code",
      "execution_count": null,
      "metadata": {
        "id": "RXInneX6xx7c",
        "colab": {
          "base_uri": "https://localhost:8080/"
        },
        "outputId": "4faac31e-fcee-46a1-bdb3-205b747e8f91"
      },
      "outputs": [
        {
          "output_type": "stream",
          "name": "stdout",
          "text": [
            "\u001b[2K   \u001b[90m━━━━━━━━━━━━━━━━━━━━━━━━━━━━━━━━━━━━━━━━\u001b[0m \u001b[32m153.4/153.4 kB\u001b[0m \u001b[31m2.8 MB/s\u001b[0m eta \u001b[36m0:00:00\u001b[0m\n",
            "\u001b[2K   \u001b[90m━━━━━━━━━━━━━━━━━━━━━━━━━━━━━━━━━━━━━━━━\u001b[0m \u001b[32m760.0/760.0 kB\u001b[0m \u001b[31m11.7 MB/s\u001b[0m eta \u001b[36m0:00:00\u001b[0m\n",
            "\u001b[?25h"
          ]
        }
      ],
      "source": [
        "!pip install -U -q google-generativeai"
      ]
    },
    {
      "cell_type": "code",
      "execution_count": null,
      "metadata": {
        "id": "kWIuwKG2_oWE"
      },
      "outputs": [],
      "source": [
        "# Install the client library and import necessary modules.\n",
        "import google.generativeai as genai\n",
        "\n",
        "import base64\n",
        "import copy\n",
        "import hashlib\n",
        "import io\n",
        "import json\n",
        "import mimetypes\n",
        "import pathlib\n",
        "import pprint\n",
        "import requests\n",
        "\n",
        "\n",
        "import PIL.Image\n",
        "import IPython.display\n",
        "from IPython.display import Markdown"
      ]
    },
    {
      "cell_type": "markdown",
      "metadata": {
        "id": "qZsRPVv1ITbh"
      },
      "source": [
        "### Mount Google Drive"
      ]
    },
    {
      "cell_type": "code",
      "execution_count": null,
      "metadata": {
        "id": "d9-t_OkGoLIP",
        "colab": {
          "base_uri": "https://localhost:8080/"
        },
        "outputId": "779777ac-cfcf-45f9-d083-c96f19f88d75"
      },
      "outputs": [
        {
          "output_type": "stream",
          "name": "stdout",
          "text": [
            "Mounted at /gdrive\n"
          ]
        }
      ],
      "source": [
        "from google.colab import drive\n",
        "\n",
        "drive.mount(\"/gdrive\")"
      ]
    },
    {
      "cell_type": "markdown",
      "metadata": {
        "id": "Fet3lFjdKHEM"
      },
      "source": [
        "## Set the API key"
      ]
    },
    {
      "cell_type": "markdown",
      "metadata": {
        "id": "ZoRWILAtCzBE"
      },
      "source": [
        "Add your API_KEY to the secrets manager in the left panel \"🔑\"."
      ]
    },
    {
      "cell_type": "code",
      "execution_count": null,
      "metadata": {
        "id": "LaLCwNlkCyQd"
      },
      "outputs": [],
      "source": [
        "from google.colab import userdata\n",
        "\n",
        "GOOGLE_API_KEY = userdata.get(\"GOOGLE_API_KEY\")"
      ]
    },
    {
      "cell_type": "code",
      "execution_count": null,
      "metadata": {
        "id": "_SvYoR3WCeKr"
      },
      "outputs": [],
      "source": [
        "# Configure the client library by providing your API key.\n",
        "genai.configure(api_key=GOOGLE_API_KEY)"
      ]
    },
    {
      "cell_type": "markdown",
      "source": [],
      "metadata": {
        "id": "FXxJyB9nu5so"
      }
    },
    {
      "cell_type": "markdown",
      "metadata": {
        "id": "weo-o73WDpdm"
      },
      "source": [
        "## Parse the arguments"
      ]
    },
    {
      "cell_type": "code",
      "execution_count": null,
      "metadata": {
        "id": "uIog-0SyDuIF"
      },
      "outputs": [],
      "source": [
        "model = 'gemini-1.5-flash' # @param {isTemplate: true}\n",
        "contents_b64 = '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' # @param {isTemplate: true}\n",
        "generation_config_b64 = 'eyJ0ZW1wZXJhdHVyZSI6MSwidG9wX3AiOjAuOTUsInRvcF9rIjo2NCwibWF4X291dHB1dF90b2tlbnMiOjgxOTJ9' # @param {isTemplate: true}\n",
        "safety_settings_b64 = \"e30=\"  # @param {isTemplate: true}\n",
        "\n",
        "gais_contents = json.loads(base64.b64decode(contents_b64))\n",
        "\n",
        "generation_config = json.loads(base64.b64decode(generation_config_b64))\n",
        "safety_settings = json.loads(base64.b64decode(safety_settings_b64))\n",
        "\n",
        "stream = False"
      ]
    },
    {
      "cell_type": "code",
      "execution_count": null,
      "metadata": {
        "id": "RkbnEEIFEHFi",
        "colab": {
          "base_uri": "https://localhost:8080/"
        },
        "outputId": "93bd2aa4-0b5c-4dc5-d708-9ea4282f4187"
      },
      "outputs": [
        {
          "output_type": "execute_result",
          "data": {
            "text/plain": [
              "[{'parts': [{'text': \"input: Hi, I'm really anxious about my upcoming exams. I feel like I can't concentrate and it's overwhelming.\"},\n",
              "   {'text': \"output: I'm really sorry you're feeling this way right now. Exam stress can be tough, but it's important to take things one step at a time. Have you tried any relaxation techniques, like deep breathing or a short break to clear your mind? It's also helpful to create a small study schedule so that you can focus on one task at a time. How are you feeling about your study progress so far?\"},\n",
              "   {'text': \"input: I've been feeling really lonely at college. I don’t know how to make new friends, and it’s starting to affect me.\"},\n",
              "   {'text': \"output: I'm really sorry you're feeling lonely. College can feel isolating, especially if it's hard to connect with others at first. Sometimes joining a club or study group can be a good way to meet people who share similar interests. It can also help to reach out to classmates—sometimes, others feel the same way but aren't sure how to start a conversation. Would you like some ideas for clubs or groups that you could explore?\"},\n",
              "   {'text': \"input: I'm drowning in assignments. I don't know how to keep up, and I feel like I'm falling behind.\"},\n",
              "   {'text': \"output: It sounds like you're carrying a lot right now, and it's understandable to feel overwhelmed. Breaking tasks down into smaller pieces might help—can you focus on one assignment at a time? Also, don’t hesitate to ask your professors or peers for clarification or extensions if needed. It’s okay to seek help. Do you want some tips on managing your time, or maybe a guide to prioritize your tasks?\"},\n",
              "   {'text': \"input: I just feel so down lately, and I don't have the energy to do anything anymore. I don’t know what’s wrong with me.\"},\n",
              "   {'text': \"output: I'm really sorry you're feeling this way. It's hard when you're going through periods of low energy and sadness. It might be helpful to reach out to someone you trust, like a friend or counselor, to talk about what you're experiencing. Sometimes taking small steps, like doing something you enjoy or just getting outside for a short walk, can make a difference. I’m here for you—do you want to talk more about what’s been on your mind?\"},\n",
              "   {'text': 'input: I miss home so much. I thought I would adjust to being away, but I feel more homesick every day.'},\n",
              "   {'text': \"output: I'm really sorry you're feeling homesick. It’s natural to miss home, especially when you're adjusting to a new environment. Sometimes staying connected with family and friends from home, like scheduling regular calls, can help you feel more grounded. Have you had the chance to explore things around your new area that could make it feel more like home?\"},\n",
              "   {'text': \"input: I feel exhausted all the time, like no matter how much I rest, I can't get my energy back. I think I'm burnt out.\"},\n",
              "   {'text': \"output: I'm really sorry you're feeling this way. Burnout can happen when you’ve been juggling a lot for a long time. It’s important to give yourself permission to rest and take care of your mental and physical health. Even short breaks or doing something enjoyable might help recharge your energy. Have you considered talking to someone about your workload or finding ways to set boundaries for yourself?\"},\n",
              "   {'text': 'input: I can’t focus on anything anymore. I try to study, but my mind just keeps wandering.'},\n",
              "   {'text': \"output: It sounds frustrating to feel that way. Sometimes when our minds are overloaded, it's harder to concentrate. It might help to take small breaks or try techniques like the Pomodoro method—working in short intervals with breaks in between. Have you been getting enough sleep and taking care of yourself? Self-care can really impact focus. What usually helps you refocus when you're distracted?\"},\n",
              "   {'text': 'input: I’m scared of failing. No matter how much I study, I still feel like I’m going to mess up.'},\n",
              "   {'text': \"output: It's understandable to feel that way, especially when you care about your results. But remember, failure is a part of learning, and it doesn't define your worth or abilities. You're trying your best, and that effort counts for a lot. Would you like to talk about what's making you feel most uncertain, or some ways to build confidence in your preparation?\"},\n",
              "   {'text': 'input: I keep putting off my work, and now I’m worried I won’t be able to finish it all.'},\n",
              "   {'text': 'output: Procrastination can sneak up on all of us, especially when tasks feel overwhelming. Sometimes starting with the smallest, easiest task can build momentum. You can also try setting a timer for just 10-15 minutes to work on something—it might help you get into the flow. How about we make a plan together to get started?'},\n",
              "   {'text': 'input: I don’t feel like I’m good enough, no matter what I do. Everyone else seems so much more capable than me.'},\n",
              "   {'text': \"output: I'm really sorry you're feeling like this. It's tough when we compare ourselves to others, but remember, everyone has their own struggles that aren't always visible. You’re capable in your own way, and your journey is unique. Would you like to talk about what’s been making you feel this way? I’m here to listen.\"},\n",
              "   {'text': 'input: im stressed about not getting good grades in my midsem exams that i wrote. can we brainstorm some ways to manage it'},\n",
              "   {'text': 'output: '}]}]"
            ]
          },
          "metadata": {},
          "execution_count": 8
        }
      ],
      "source": [
        "gais_contents"
      ]
    },
    {
      "cell_type": "code",
      "execution_count": null,
      "metadata": {
        "id": "ca3e641ee9d3",
        "colab": {
          "base_uri": "https://localhost:8080/"
        },
        "outputId": "9f0b7035-aea0-49e4-8e45-201a3b27b0b6"
      },
      "outputs": [
        {
          "output_type": "execute_result",
          "data": {
            "text/plain": [
              "{'temperature': 1, 'top_p': 0.95, 'top_k': 64, 'max_output_tokens': 8192}"
            ]
          },
          "metadata": {},
          "execution_count": 9
        }
      ],
      "source": [
        "generation_config"
      ]
    },
    {
      "cell_type": "code",
      "execution_count": null,
      "metadata": {
        "id": "11ce12f5bbac",
        "colab": {
          "base_uri": "https://localhost:8080/"
        },
        "outputId": "4c97a6e8-6b02-435b-a961-2cabbce86d64"
      },
      "outputs": [
        {
          "output_type": "execute_result",
          "data": {
            "text/plain": [
              "{}"
            ]
          },
          "metadata": {},
          "execution_count": 10
        }
      ],
      "source": [
        "safety_settings"
      ]
    },
    {
      "cell_type": "markdown",
      "metadata": {
        "id": "F91AeeGO1ncU"
      },
      "source": [
        "## [optional] Show the conversation\n",
        "\n",
        "This section displays the conversation received from Google AI Studio."
      ]
    },
    {
      "cell_type": "code",
      "execution_count": null,
      "metadata": {
        "cellView": "form",
        "id": "yoL3p3KPylFW"
      },
      "outputs": [],
      "source": [
        "# @title `show_file` function\n",
        "def show_file(file_data):\n",
        "    mime_type = file_data[\"mime_type\"]\n",
        "\n",
        "    if drive_id := file_data.get(\"drive_id\", None):\n",
        "        path = next(\n",
        "            pathlib.Path(f\"/gdrive/.shortcut-targets-by-id/{drive_id}\").glob(\"*\")\n",
        "        )\n",
        "        name = path\n",
        "        # data = path.read_bytes()\n",
        "        kwargs = {\"filename\": path}\n",
        "    elif url := file_data.get(\"url\", None):\n",
        "        name = url\n",
        "        kwargs = {\"url\": url}\n",
        "        # response = requests.get(url)\n",
        "        # data = response.content\n",
        "    elif data := file_data.get(\"inline_data\", None):\n",
        "        name = None\n",
        "        kwargs = {\"data\": data}\n",
        "    elif name := file_data.get(\"filename\", None):\n",
        "        if not pathlib.Path(name).exists():\n",
        "            raise IOError(\n",
        "                f\"local file: `{name}` does not exist. You can upload files to \"\n",
        "                'Colab using the file manager (\"📁 Files\"in the left toolbar)'\n",
        "            )\n",
        "    else:\n",
        "        raise ValueError(\"Either `drive_id`, `url` or `inline_data` must be provided.\")\n",
        "\n",
        "        print(f\"File:\\n    name: {name}\\n    mime_type: {mime_type}\\n\")\n",
        "        return\n",
        "\n",
        "    format = mimetypes.guess_extension(mime_type).strip(\".\")\n",
        "    if mime_type.startswith(\"image/\"):\n",
        "        image = IPython.display.Image(**kwargs, width=256)\n",
        "        IPython.display.display(image)\n",
        "        print()\n",
        "        return\n",
        "\n",
        "    if mime_type.startswith(\"audio/\"):\n",
        "        if len(data) < 2**12:\n",
        "            audio = IPython.display.Audio(**kwargs)\n",
        "            IPython.display.display(audio)\n",
        "            print()\n",
        "            return\n",
        "\n",
        "    if mime_type.startswith(\"video/\"):\n",
        "        if len(data) < 2**12:\n",
        "            audio = IPython.display.Video(**kwargs, mimetype=mime_type)\n",
        "            IPython.display.display(audio)\n",
        "            print()\n",
        "            return\n",
        "\n",
        "    print(f\"File:\\n    name: {name}\\n    mime_type: {mime_type}\\n\")"
      ]
    },
    {
      "cell_type": "code",
      "execution_count": null,
      "metadata": {
        "id": "o9D5UdhL8MTk",
        "colab": {
          "base_uri": "https://localhost:8080/"
        },
        "outputId": "70e24c71-47a0-48f6-9973-ff062bae548a"
      },
      "outputs": [
        {
          "output_type": "stream",
          "name": "stdout",
          "text": [
            "input: Hi, I'm really anxious about my upcoming exams. I feel like I can't concentrate and it's overwhelming. \n",
            "\n",
            "output: I'm really sorry you're feeling this way right now. Exam stress can be tough, but it's important to take things one step at a time. Have you tried any relaxation techniques, like deep breathing or a short break to clear your mind? It's also helpful to create a small study schedule so that you can focus on one task at a time. How are you feeling about your study progress so far? \n",
            "\n",
            "input: I've been feeling really lonely at college. I don’t know how to make new friends, and it’s starting to affect me. \n",
            "\n",
            "output: I'm really sorry you're feeling lonely. College can feel isolating, especially if it's hard to connect with others at first. Sometimes joining a club or study group can be a good way to meet people who share similar interests. It can also help to reach out to classmates—sometimes, others feel the same way but aren't sure how to start a conversation. Would you like some ideas for clubs or groups that you could explore? \n",
            "\n",
            "input: I'm drowning in assignments. I don't know how to keep up, and I feel like I'm falling behind. \n",
            "\n",
            "output: It sounds like you're carrying a lot right now, and it's understandable to feel overwhelmed. Breaking tasks down into smaller pieces might help—can you focus on one assignment at a time? Also, don’t hesitate to ask your professors or peers for clarification or extensions if needed. It’s okay to seek help. Do you want some tips on managing your time, or maybe a guide to prioritize your tasks? \n",
            "\n",
            "input: I just feel so down lately, and I don't have the energy to do anything anymore. I don’t know what’s wrong with me. \n",
            "\n",
            "output: I'm really sorry you're feeling this way. It's hard when you're going through periods of low energy and sadness. It might be helpful to reach out to someone you trust, like a friend or counselor, to talk about what you're experiencing. Sometimes taking small steps, like doing something you enjoy or just getting outside for a short walk, can make a difference. I’m here for you—do you want to talk more about what’s been on your mind? \n",
            "\n",
            "input: I miss home so much. I thought I would adjust to being away, but I feel more homesick every day. \n",
            "\n",
            "output: I'm really sorry you're feeling homesick. It’s natural to miss home, especially when you're adjusting to a new environment. Sometimes staying connected with family and friends from home, like scheduling regular calls, can help you feel more grounded. Have you had the chance to explore things around your new area that could make it feel more like home? \n",
            "\n",
            "input: I feel exhausted all the time, like no matter how much I rest, I can't get my energy back. I think I'm burnt out. \n",
            "\n",
            "output: I'm really sorry you're feeling this way. Burnout can happen when you’ve been juggling a lot for a long time. It’s important to give yourself permission to rest and take care of your mental and physical health. Even short breaks or doing something enjoyable might help recharge your energy. Have you considered talking to someone about your workload or finding ways to set boundaries for yourself? \n",
            "\n",
            "input: I can’t focus on anything anymore. I try to study, but my mind just keeps wandering. \n",
            "\n",
            "output: It sounds frustrating to feel that way. Sometimes when our minds are overloaded, it's harder to concentrate. It might help to take small breaks or try techniques like the Pomodoro method—working in short intervals with breaks in between. Have you been getting enough sleep and taking care of yourself? Self-care can really impact focus. What usually helps you refocus when you're distracted? \n",
            "\n",
            "input: I’m scared of failing. No matter how much I study, I still feel like I’m going to mess up. \n",
            "\n",
            "output: It's understandable to feel that way, especially when you care about your results. But remember, failure is a part of learning, and it doesn't define your worth or abilities. You're trying your best, and that effort counts for a lot. Would you like to talk about what's making you feel most uncertain, or some ways to build confidence in your preparation? \n",
            "\n",
            "input: I keep putting off my work, and now I’m worried I won’t be able to finish it all. \n",
            "\n",
            "output: Procrastination can sneak up on all of us, especially when tasks feel overwhelming. Sometimes starting with the smallest, easiest task can build momentum. You can also try setting a timer for just 10-15 minutes to work on something—it might help you get into the flow. How about we make a plan together to get started? \n",
            "\n",
            "input: I don’t feel like I’m good enough, no matter what I do. Everyone else seems so much more capable than me. \n",
            "\n",
            "output: I'm really sorry you're feeling like this. It's tough when we compare ourselves to others, but remember, everyone has their own struggles that aren't always visible. You’re capable in your own way, and your journey is unique. Would you like to talk about what’s been making you feel this way? I’m here to listen. \n",
            "\n",
            "input: im stressed about not getting good grades in my midsem exams that i wrote. can we brainstorm some ways to manage it \n",
            "\n",
            "output:  \n",
            "\n",
            "-------------------------------------------------------------------------------- \n",
            "\n"
          ]
        }
      ],
      "source": [
        "for content in gais_contents:\n",
        "    if role := content.get(\"role\", None):\n",
        "        print(\"Role:\", role, \"\\n\")\n",
        "\n",
        "    for n, part in enumerate(content[\"parts\"]):\n",
        "        if text := part.get(\"text\", None):\n",
        "            print(text, \"\\n\")\n",
        "\n",
        "        elif file_data := part.get(\"file_data\", None):\n",
        "            show_file(file_data)\n",
        "\n",
        "    print(\"-\" * 80, \"\\n\")"
      ]
    },
    {
      "cell_type": "markdown",
      "metadata": {
        "id": "0F6SKiuo88LQ"
      },
      "source": [
        "## Convert & upload files\n",
        "\n",
        "For each file, Google AI Studio either sent:\n",
        "- a Google Drive IDs\n",
        "- a URL, or\n",
        "- the raw bytes (`inline_data`).\n",
        "\n",
        "The API itself onlty understands two ways of sending files:\n",
        "\n",
        "- `inline_data` - where the bytes are placed inline in the request.\n",
        "- `file_data` - where the file is uploaded to the Files API, and you pass a reference to that file.\n",
        "\n",
        "This section goes through the `contents` from Google AI Studio, and uploads the file data, to the Files API, so Gemini can access it:"
      ]
    },
    {
      "cell_type": "code",
      "execution_count": null,
      "metadata": {
        "cellView": "form",
        "id": "_wJAs_ZfuwCq"
      },
      "outputs": [],
      "source": [
        "# @title `upload_file` function\n",
        "\n",
        "tempfiles = pathlib.Path(f\"tempfiles\")\n",
        "tempfiles.mkdir(parents=True, exist_ok=True)\n",
        "\n",
        "\n",
        "def upload_file_data(file_data):\n",
        "    mime_type = file_data[\"mime_type\"]\n",
        "    if drive_id := file_data.pop(\"drive_id\", None):\n",
        "        path = next(\n",
        "            pathlib.Path(f\"/gdrive/.shortcut-targets-by-id/{drive_id}\").glob(\"*\")\n",
        "        )\n",
        "        print(\"Uploading:\", str(path))\n",
        "        file_info = genai.upload_file(path=path, mime_type=mime_type)\n",
        "        file_data[\"file_uri\"] = file_info.uri\n",
        "        return\n",
        "\n",
        "    if url := file_data.pop(\"url\", None):\n",
        "        response = requests.get(url)\n",
        "        data = response.content\n",
        "        name = url.split(\"/\")[-1]\n",
        "        hash = hashlib.sha256(data).hexdigest()\n",
        "        path = tempfiles / hash\n",
        "        path.write_bytes(data)\n",
        "        print(\"Uploading:\", url)\n",
        "        file_info = genai.upload_file(path, display_name=name, mime_type=mime_type)\n",
        "        file_data[\"file_uri\"] = file_info.uri\n",
        "        return\n",
        "\n",
        "    if name := file_data.get(\"filename\", None):\n",
        "        if not pathlib.Path(name).exists():\n",
        "            raise IOError(\n",
        "                f\"local file: `{name}` does not exist. You can upload files \"\n",
        "                'to Colab using the file manager (\"📁 Files\"in the left '\n",
        "                \"toolbar)\"\n",
        "            )\n",
        "        file_info = genai.upload_file(path, display_name=name, mime_type=mime_type)\n",
        "        file_data[\"file_uri\"] = file_info.uri\n",
        "        return\n",
        "\n",
        "    if \"inline_data\" in file_data:\n",
        "        return\n",
        "\n",
        "    raise ValueError(\"Either `drive_id`, `url` or `inline_data` must be provided.\")"
      ]
    },
    {
      "cell_type": "code",
      "execution_count": null,
      "metadata": {
        "id": "8TehY-utE3OR"
      },
      "outputs": [],
      "source": [
        "contents = copy.deepcopy(gais_contents)\n",
        "\n",
        "for content in contents:\n",
        "    for n, part in enumerate(content[\"parts\"]):\n",
        "        if file_data := part.get(\"file_data\", None):\n",
        "            upload_file_data(file_data)"
      ]
    },
    {
      "cell_type": "markdown",
      "metadata": {
        "id": "EUFIM-r39cuc"
      },
      "source": [
        "Here is the coverted `Content`s:"
      ]
    },
    {
      "cell_type": "code",
      "execution_count": null,
      "metadata": {
        "id": "oJ-sPFRSxdQg",
        "colab": {
          "base_uri": "https://localhost:8080/"
        },
        "outputId": "04be44e0-9fa4-4ece-a1d1-eff761323dfe"
      },
      "outputs": [
        {
          "output_type": "execute_result",
          "data": {
            "text/plain": [
              "[{'parts': [{'text': \"input: Hi, I'm really anxious about my upcoming exams. I feel like I can't concentrate and it's overwhelming.\"},\n",
              "   {'text': \"output: I'm really sorry you're feeling this way right now. Exam stress can be tough, but it's important to take things one step at a time. Have you tried any relaxation techniques, like deep breathing or a short break to clear your mind? It's also helpful to create a small study schedule so that you can focus on one task at a time. How are you feeling about your study progress so far?\"},\n",
              "   {'text': \"input: I've been feeling really lonely at college. I don’t know how to make new friends, and it’s starting to affect me.\"},\n",
              "   {'text': \"output: I'm really sorry you're feeling lonely. College can feel isolating, especially if it's hard to connect with others at first. Sometimes joining a club or study group can be a good way to meet people who share similar interests. It can also help to reach out to classmates—sometimes, others feel the same way but aren't sure how to start a conversation. Would you like some ideas for clubs or groups that you could explore?\"},\n",
              "   {'text': \"input: I'm drowning in assignments. I don't know how to keep up, and I feel like I'm falling behind.\"},\n",
              "   {'text': \"output: It sounds like you're carrying a lot right now, and it's understandable to feel overwhelmed. Breaking tasks down into smaller pieces might help—can you focus on one assignment at a time? Also, don’t hesitate to ask your professors or peers for clarification or extensions if needed. It’s okay to seek help. Do you want some tips on managing your time, or maybe a guide to prioritize your tasks?\"},\n",
              "   {'text': \"input: I just feel so down lately, and I don't have the energy to do anything anymore. I don’t know what’s wrong with me.\"},\n",
              "   {'text': \"output: I'm really sorry you're feeling this way. It's hard when you're going through periods of low energy and sadness. It might be helpful to reach out to someone you trust, like a friend or counselor, to talk about what you're experiencing. Sometimes taking small steps, like doing something you enjoy or just getting outside for a short walk, can make a difference. I’m here for you—do you want to talk more about what’s been on your mind?\"},\n",
              "   {'text': 'input: I miss home so much. I thought I would adjust to being away, but I feel more homesick every day.'},\n",
              "   {'text': \"output: I'm really sorry you're feeling homesick. It’s natural to miss home, especially when you're adjusting to a new environment. Sometimes staying connected with family and friends from home, like scheduling regular calls, can help you feel more grounded. Have you had the chance to explore things around your new area that could make it feel more like home?\"},\n",
              "   {'text': \"input: I feel exhausted all the time, like no matter how much I rest, I can't get my energy back. I think I'm burnt out.\"},\n",
              "   {'text': \"output: I'm really sorry you're feeling this way. Burnout can happen when you’ve been juggling a lot for a long time. It’s important to give yourself permission to rest and take care of your mental and physical health. Even short breaks or doing something enjoyable might help recharge your energy. Have you considered talking to someone about your workload or finding ways to set boundaries for yourself?\"},\n",
              "   {'text': 'input: I can’t focus on anything anymore. I try to study, but my mind just keeps wandering.'},\n",
              "   {'text': \"output: It sounds frustrating to feel that way. Sometimes when our minds are overloaded, it's harder to concentrate. It might help to take small breaks or try techniques like the Pomodoro method—working in short intervals with breaks in between. Have you been getting enough sleep and taking care of yourself? Self-care can really impact focus. What usually helps you refocus when you're distracted?\"},\n",
              "   {'text': 'input: I’m scared of failing. No matter how much I study, I still feel like I’m going to mess up.'},\n",
              "   {'text': \"output: It's understandable to feel that way, especially when you care about your results. But remember, failure is a part of learning, and it doesn't define your worth or abilities. You're trying your best, and that effort counts for a lot. Would you like to talk about what's making you feel most uncertain, or some ways to build confidence in your preparation?\"},\n",
              "   {'text': 'input: I keep putting off my work, and now I’m worried I won’t be able to finish it all.'},\n",
              "   {'text': 'output: Procrastination can sneak up on all of us, especially when tasks feel overwhelming. Sometimes starting with the smallest, easiest task can build momentum. You can also try setting a timer for just 10-15 minutes to work on something—it might help you get into the flow. How about we make a plan together to get started?'},\n",
              "   {'text': 'input: I don’t feel like I’m good enough, no matter what I do. Everyone else seems so much more capable than me.'},\n",
              "   {'text': \"output: I'm really sorry you're feeling like this. It's tough when we compare ourselves to others, but remember, everyone has their own struggles that aren't always visible. You’re capable in your own way, and your journey is unique. Would you like to talk about what’s been making you feel this way? I’m here to listen.\"},\n",
              "   {'text': 'input: im stressed about not getting good grades in my midsem exams that i wrote. can we brainstorm some ways to manage it'},\n",
              "   {'text': 'output: '}]}]"
            ]
          },
          "metadata": {},
          "execution_count": 15
        }
      ],
      "source": [
        "contents"
      ]
    },
    {
      "cell_type": "markdown",
      "metadata": {
        "id": "E7zAD69vE92b"
      },
      "source": [
        "## Call `generate_content`"
      ]
    },
    {
      "cell_type": "code",
      "execution_count": null,
      "metadata": {
        "id": "LB2LxPmAB95V"
      },
      "outputs": [],
      "source": [
        "# Call the model and print the response.\n",
        "gemini = genai.GenerativeModel(model_name=model)\n",
        "\n",
        "response = gemini.generate_content(\n",
        "    contents,\n",
        "    generation_config=generation_config,\n",
        "    safety_settings=safety_settings,\n",
        "    stream=False,\n",
        ")"
      ]
    },
    {
      "cell_type": "code",
      "execution_count": null,
      "metadata": {
        "id": "Lm3RXwYuGtZK",
        "colab": {
          "base_uri": "https://localhost:8080/",
          "height": 331
        },
        "outputId": "d1aae6d5-9ef5-46de-c347-034fe2c13f78"
      },
      "outputs": [
        {
          "output_type": "display_data",
          "data": {
            "text/plain": [
              "<IPython.core.display.Markdown object>"
            ],
            "text/markdown": "It’s understandable to feel stressed about exams, especially when you’ve just taken them. Let’s brainstorm some ways to manage this stress:\n\n**1. Acknowledge and Accept:** First, it’s important to acknowledge your feelings. It’s okay to feel stressed, anxious, or even disappointed. Try to accept that you did your best, and the results are out of your control now.\n\n**2. Focus on What You Can Control:** You can't change the past, but you can focus on the present.  Instead of dwelling on what might have been, shift your attention to things you can control:\n\n* **Review the material:** If you have any feedback from the exams, review it carefully and identify areas where you can improve.\n* **Plan for future exams:**  If there are more exams coming up, make a plan to study more effectively and proactively address areas you struggled with.\n* **Take care of yourself:**  Prioritize self-care activities like exercise, healthy eating, getting enough sleep, and spending time doing things you enjoy.\n\n**3. Seek Support:**  Don't hesitate to talk to someone you trust about how you're feeling. This could be a friend, family member, or a counselor. They can provide a listening ear and offer support.\n\n**4. Practice Relaxation Techniques:** Stress management techniques like deep breathing, meditation, or progressive muscle relaxation can be helpful in reducing anxiety. \n\n**5. Shift Your Perspective:**  Remember that exams are just one part of your overall journey.  Try to focus on your strengths, accomplishments, and the bigger picture.  \n\n**Do any of these ideas resonate with you?  What do you think might be helpful to try right now?**\n"
          },
          "metadata": {}
        }
      ],
      "source": [
        "if generation_config.get(\"candidate_count\", 1) == 1:\n",
        "    display(Markdown(response.text))"
      ]
    },
    {
      "cell_type": "code",
      "execution_count": null,
      "metadata": {
        "id": "HjT4jtJc2aAk",
        "colab": {
          "base_uri": "https://localhost:8080/"
        },
        "outputId": "bf1d676a-c8d6-486a-ad0a-88da854ebea7"
      },
      "outputs": [
        {
          "output_type": "execute_result",
          "data": {
            "text/plain": [
              "[content {\n",
              "  parts {\n",
              "    text: \"It\\342\\200\\231s understandable to feel stressed about exams, especially when you\\342\\200\\231ve just taken them. Let\\342\\200\\231s brainstorm some ways to manage this stress:\\n\\n**1. Acknowledge and Accept:** First, it\\342\\200\\231s important to acknowledge your feelings. It\\342\\200\\231s okay to feel stressed, anxious, or even disappointed. Try to accept that you did your best, and the results are out of your control now.\\n\\n**2. Focus on What You Can Control:** You can\\'t change the past, but you can focus on the present.  Instead of dwelling on what might have been, shift your attention to things you can control:\\n\\n* **Review the material:** If you have any feedback from the exams, review it carefully and identify areas where you can improve.\\n* **Plan for future exams:**  If there are more exams coming up, make a plan to study more effectively and proactively address areas you struggled with.\\n* **Take care of yourself:**  Prioritize self-care activities like exercise, healthy eating, getting enough sleep, and spending time doing things you enjoy.\\n\\n**3. Seek Support:**  Don\\'t hesitate to talk to someone you trust about how you\\'re feeling. This could be a friend, family member, or a counselor. They can provide a listening ear and offer support.\\n\\n**4. Practice Relaxation Techniques:** Stress management techniques like deep breathing, meditation, or progressive muscle relaxation can be helpful in reducing anxiety. \\n\\n**5. Shift Your Perspective:**  Remember that exams are just one part of your overall journey.  Try to focus on your strengths, accomplishments, and the bigger picture.  \\n\\n**Do any of these ideas resonate with you?  What do you think might be helpful to try right now?**\\n\"\n",
              "  }\n",
              "  role: \"model\"\n",
              "}\n",
              "finish_reason: STOP\n",
              "index: 0\n",
              "safety_ratings {\n",
              "  category: HARM_CATEGORY_SEXUALLY_EXPLICIT\n",
              "  probability: NEGLIGIBLE\n",
              "}\n",
              "safety_ratings {\n",
              "  category: HARM_CATEGORY_HATE_SPEECH\n",
              "  probability: NEGLIGIBLE\n",
              "}\n",
              "safety_ratings {\n",
              "  category: HARM_CATEGORY_HARASSMENT\n",
              "  probability: NEGLIGIBLE\n",
              "}\n",
              "safety_ratings {\n",
              "  category: HARM_CATEGORY_DANGEROUS_CONTENT\n",
              "  probability: NEGLIGIBLE\n",
              "}\n",
              "]"
            ]
          },
          "metadata": {},
          "execution_count": 18
        }
      ],
      "source": [
        "response.candidates"
      ]
    },
    {
      "cell_type": "markdown",
      "metadata": {
        "id": "eQ1YBkS4MV8L"
      },
      "source": [
        "## Or Create a chat"
      ]
    },
    {
      "cell_type": "code",
      "execution_count": null,
      "metadata": {
        "id": "aOd-4IHUqx4R"
      },
      "outputs": [],
      "source": [
        "gemini = genai.GenerativeModel(\n",
        "    model_name=model,\n",
        "    generation_config=generation_config,\n",
        "    safety_settings=safety_settings,\n",
        ")"
      ]
    },
    {
      "cell_type": "markdown",
      "metadata": {
        "id": "nOPCBs2grsIt"
      },
      "source": [
        "A `ChatSession`, should always end with the model's turn.\n",
        "\n",
        "So before creating the `chat` check whos turn was last.\n",
        "\n",
        "If the user was last, attach all but the last content as the `history` and send the last content with `send_message` to get the model's response.\n",
        "\n",
        "If the model was last, put the whole contents list in the history."
      ]
    },
    {
      "cell_type": "code",
      "execution_count": null,
      "metadata": {
        "id": "aIbdDOeFqyiE"
      },
      "outputs": [],
      "source": [
        "model_turn = contents[-1].get(\"role\", None) == \"user\"\n",
        "\n",
        "if model_turn:\n",
        "    chat = gemini.start_chat(history=contents[:-1])\n",
        "\n",
        "    response = chat.send_message(contents[-1])\n",
        "\n",
        "    if generation_config.get(\"candidate_count\", 1) == 1:\n",
        "        display(Markdown(response.text))\n",
        "else:\n",
        "    chat = gemini.start_chat(history=contents)"
      ]
    },
    {
      "cell_type": "code",
      "execution_count": null,
      "metadata": {
        "id": "5gWBb5UtOL5M"
      },
      "outputs": [],
      "source": [
        "if model_turn:\n",
        "    response.candidates"
      ]
    },
    {
      "cell_type": "markdown",
      "metadata": {
        "id": "gdz66HVvsnRc"
      },
      "source": [
        "After that use `send_message` to continue the conversation."
      ]
    },
    {
      "cell_type": "code",
      "source": [
        "# Ensure the last turn in the history has a valid role before starting the chat\n",
        "if not contents[-1].get(\"role\", None) in [\"user\", \"model\"]:\n",
        "    contents[-1][\"role\"] = \"user\"  # Assign \"user\" if no role is found\n",
        "\n",
        "if model_turn:\n",
        "    chat = gemini.start_chat(history=contents[:-1])\n",
        "    response = chat.send_message(contents[-1])\n",
        "\n",
        "    if generation_config.get(\"candidate_count\", 1) == 1:\n",
        "        display(Markdown(response.text))\n",
        "else:\n",
        "    chat = gemini.start_chat(history=contents)"
      ],
      "metadata": {
        "id": "rq86C8c6n3LV"
      },
      "execution_count": null,
      "outputs": []
    },
    {
      "cell_type": "code",
      "execution_count": null,
      "metadata": {
        "id": "nb87HPvBrx29",
        "colab": {
          "base_uri": "https://localhost:8080/",
          "height": 285
        },
        "outputId": "3b3dedb5-5b4c-46db-fd04-c08329960e2c"
      },
      "outputs": [
        {
          "output_type": "display_data",
          "data": {
            "text/plain": [
              "<IPython.core.display.Markdown object>"
            ],
            "text/markdown": "Okay, let's delve deeper! I'm ready to explore more specific ways to address your stress about the mid-semester exams. To give you the best advice, I need a little more context. \n\nTell me, what specifically are you feeling stressed about?  For example: \n\n* **Is it about the content itself?** Do you feel unprepared for certain topics or concepts? \n* **Is it about the exam format?** Are you worried about multiple-choice questions, essays, or other types of assessment?\n* **Is it about time management?**  Do you feel overwhelmed by the amount of material you need to cover?\n* **Is it about your performance?** Are you concerned about not doing well enough or not meeting your own expectations?\n\nOnce I understand your specific concerns, I can offer more tailored advice.  I can help you:\n\n* **Break down the material into manageable chunks.**\n* **Create a study plan with specific deadlines and goals.**\n* **Explore different study techniques to suit your learning style.**\n* **Develop strategies to reduce test anxiety and improve your performance.**\n\nI'm here to help you tackle this challenge, so don't hesitate to be specific!  The more information you give me, the better I can support you. \n"
          },
          "metadata": {}
        }
      ],
      "source": [
        " response = chat.send_message(\"Interesting, tell me more.\")\n",
        " display(Markdown(response.text))"
      ]
    }
  ],
  "metadata": {
    "colab": {
      "collapsed_sections": [
        "Tce3stUlHN0L"
      ],
      "provenance": []
    },
    "kernelspec": {
      "display_name": "Python 3",
      "name": "python3"
    }
  },
  "nbformat": 4,
  "nbformat_minor": 0
}